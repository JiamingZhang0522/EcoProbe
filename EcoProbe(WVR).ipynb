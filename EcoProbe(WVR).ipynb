{
 "cells": [
  {
   "cell_type": "code",
   "execution_count": null,
   "metadata": {},
   "outputs": [],
   "source": [
    "import pandas as pd\n",
    "import numpy as np\n",
    "\n",
    "# Load the dataset\n",
    "data = pd.read_csv('NWCATotalV.csv')\n",
    "\n",
    "# Define vegetation height categories (approximate heights in meters)\n",
    "vegetation_heights = {\n",
    "    \"FLOATING_AQ\": 1.0,   # Floating plants ~ 1m\n",
    "    \"SUBMERGED_AQ\": 0.2,  # Submerged aquatic vegetation ~0.2m\n",
    "    \"VSMALL_VEG\": 0.3,    # Very small vegetation < 0.5m\n",
    "    \"SMALL_VEG\": 1.5,     # Small vegetation ~ 0.5m to 2m\n",
    "    \"MED_VEG\": 3.5,       # Medium vegetation ~ 2m to 5m\n",
    "    \"HMED_VEG\": 10,       # High-medium vegetation ~ 5m to 15m\n",
    "    \"TALL_VEG\": 22,       # Tall vegetation ~ 15m to 30m\n",
    "    \"VTALL_VEG\": 35       # Very tall vegetation > 30m\n",
    "}\n",
    "\n",
    "# Bimodal distribution parameters\n",
    "mu1 = 1.0  # Centered around floating/small vegetation (~1m)\n",
    "mu2 = 15.0  # Centered around tall vegetation (~15m)\n",
    "sigma1 = 3  # Spread for first mode (floating/small vegetation)\n",
    "sigma2 = 5  # Spread for second mode (tall vegetation)\n",
    "weight_mode1 = 0.6  # Weight for first mode\n",
    "weight_mode2 = 0.4  # Weight for second mode\n",
    "\n",
    "# Compute weights based on two normal distributions (bimodal)\n",
    "weights = {}\n",
    "for key, value in vegetation_heights.items():\n",
    "    weight1 = np.exp(-((value - mu1) ** 2) / (2 * sigma1 ** 2))\n",
    "    weight2 = np.exp(-((value - mu2) ** 2) / (2 * sigma2 ** 2))\n",
    "    # Combine both weights with their respective mode weights\n",
    "    combined_weight = weight_mode1 * weight1 + weight_mode2 * weight2\n",
    "    weights[key] = combined_weight\n",
    "\n",
    "# Normalize weights so they sum to 1\n",
    "total_weight = sum(weights.values())\n",
    "weights = {key: value / total_weight for key, value in weights.items()}\n",
    "\n",
    "# Ensure vegetation columns exist in the dataset\n",
    "vegetation_columns = [col for col in weights.keys() if col in data.columns]\n",
    "\n",
    "# Fill missing values with 0\n",
    "data[vegetation_columns] = data[vegetation_columns].fillna(0)\n",
    "\n",
    "# Normalize percentages (scale from 0 to 1)\n",
    "data[vegetation_columns] = data[vegetation_columns] / 100\n",
    "\n",
    "# Calculate WVR using weighted sum\n",
    "data[\"WVR\"] = sum(data[col] * weights[col] for col in vegetation_columns)\n",
    "\n",
    "# Group by SITE_ID and average WVR if multiple entries per SITE_ID\n",
    "wvr_by_site = data.groupby(\"SITE_ID\", as_index=False)[\"WVR\"].mean()\n",
    "\n",
    "# Save the result to a new CSV file\n",
    "custom_output_path = 'WVRTotal_BimodalDist_Corrected.csv'\n",
    "wvr_by_site.to_csv(custom_output_path, index=False)\n",
    "\n",
    "custom_output_path\n"
   ]
  }
 ],
 "metadata": {
  "kernelspec": {
   "display_name": "Python 3.10.0 64-bit",
   "language": "python",
   "name": "python3"
  },
  "language_info": {
   "codemirror_mode": {
    "name": "ipython",
    "version": 3
   },
   "file_extension": ".py",
   "mimetype": "text/x-python",
   "name": "python",
   "nbconvert_exporter": "python",
   "pygments_lexer": "ipython3",
   "version": "3.10.0"
  },
  "orig_nbformat": 4,
  "vscode": {
   "interpreter": {
    "hash": "aee8b7b246df8f9039afb4144a1f6fd8d2ca17a180786b69acc140d282b71a49"
   }
  }
 },
 "nbformat": 4,
 "nbformat_minor": 2
}
